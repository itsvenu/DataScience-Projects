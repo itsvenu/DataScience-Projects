{
 "cells": [
  {
   "cell_type": "markdown",
   "metadata": {},
   "source": [
    "##  Guide to get curser coordinates for AutoZOOM to work"
   ]
  },
  {
   "cell_type": "markdown",
   "metadata": {},
   "source": [
    "This is a small guide to get cursor coordinates appropriate for operating zoom from python script\n",
    "\n",
    "\n",
    "Some technical notes:\n",
    "\n",
    "- main script: [https://github.com/itsvenu/DataScience-Projects/blob/master/AutoZOOM/AutoZOOM_v0.03.py](https://github.com/itsvenu/DataScience-Projects/blob/master/AutoZOOM/AutoZOOM_v0.03.py)\n",
    "\n",
    "- 13 inch display (MacBook pro)\n",
    "- chrome browser\n",
    "- I did not grant any permissions to zoom app installed in my laptop\n",
    "- Video is off by default in my zoom app\n",
    "\n",
    "- I did not include `close zoom` option in the script, just to not look like completely automated\n",
    "\n",
    "\n",
    "\n",
    "\n",
    "If you have different screen size and different zoom settings, following guide will help you automate the zoom joining."
   ]
  },
  {
   "cell_type": "code",
   "execution_count": 1,
   "metadata": {},
   "outputs": [],
   "source": [
    "# required module\n",
    "\n",
    "import pyautogui as pyg # required module"
   ]
  },
  {
   "cell_type": "markdown",
   "metadata": {},
   "source": [
    "### step-1\n",
    "\n",
    "As soon as you enter zoom meeting link in chrome browser, it will give a pop-up window like following\n",
    "\n",
    "![popup](zoom_popup.png)\n",
    "\n",
    "Keep the curser on **Open zoom.us.app** and run the following command"
   ]
  },
  {
   "cell_type": "code",
   "execution_count": 3,
   "metadata": {},
   "outputs": [
    {
     "data": {
      "text/plain": [
       "Point(x=814, y=246)"
      ]
     },
     "execution_count": 3,
     "metadata": {},
     "output_type": "execute_result"
    }
   ],
   "source": [
    "pyg.position()"
   ]
  },
  {
   "cell_type": "markdown",
   "metadata": {},
   "source": [
    "In my laptop, the pop-up is approximately at Point(x=814, y=246). Use these coordinates in line-45 of the main script [here](https://github.com/itsvenu/DataScience-Projects/blob/master/AutoZOOM/AutoZOOM_v0.03.py)"
   ]
  },
  {
   "cell_type": "markdown",
   "metadata": {},
   "source": [
    "### Step-2\n",
    "\n",
    "After clicking **Open zoom.us.app**, it will open the zoom app that is installed in your laptop. It will look something like the following\n",
    "\n",
    "![app](zoom_app.png)\n",
    "\n",
    "By default, if there is no one sharing a screen/presenting slides, the app will open in a small window. We need to maximize the zoom app window. Keep the curser on maximize circle of the zoom app and again run the above command"
   ]
  },
  {
   "cell_type": "code",
   "execution_count": 4,
   "metadata": {},
   "outputs": [
    {
     "data": {
      "text/plain": [
       "Point(x=194, y=40)"
      ]
     },
     "execution_count": 4,
     "metadata": {},
     "output_type": "execute_result"
    }
   ],
   "source": [
    "pyg.position()"
   ]
  },
  {
   "cell_type": "markdown",
   "metadata": {},
   "source": [
    "In my laptop, this is close to Point(x=194, y=40). Now the app window is maximized. Add these coordinates in line-47 of the main script."
   ]
  },
  {
   "cell_type": "markdown",
   "metadata": {},
   "source": [
    "### Step-3\n",
    "\n",
    "Now, we need to find the coordinates for the mute button in maximized zoom app. Repeat the same procedure as above. Keep the cursor on mute button on zoom app and run the `pyg.position()` command. In my laptop, this gave me Point(x=50, y=776). Add these coordinates to the line-49 of the main script."
   ]
  },
  {
   "cell_type": "code",
   "execution_count": null,
   "metadata": {},
   "outputs": [],
   "source": []
  }
 ],
 "metadata": {
  "kernelspec": {
   "display_name": "Python 3",
   "language": "python",
   "name": "python3"
  },
  "language_info": {
   "codemirror_mode": {
    "name": "ipython",
    "version": 3
   },
   "file_extension": ".py",
   "mimetype": "text/x-python",
   "name": "python",
   "nbconvert_exporter": "python",
   "pygments_lexer": "ipython3",
   "version": "3.7.1"
  },
  "toc": {
   "base_numbering": 1,
   "nav_menu": {},
   "number_sections": true,
   "sideBar": true,
   "skip_h1_title": false,
   "title_cell": "Table of Contents",
   "title_sidebar": "Contents",
   "toc_cell": false,
   "toc_position": {},
   "toc_section_display": true,
   "toc_window_display": false
  }
 },
 "nbformat": 4,
 "nbformat_minor": 2
}
