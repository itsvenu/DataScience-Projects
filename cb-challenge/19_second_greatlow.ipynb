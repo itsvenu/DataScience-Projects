{
 "cells": [
  {
   "cell_type": "code",
   "execution_count": 1,
   "metadata": {},
   "outputs": [],
   "source": [
    "## Venu Thatikonda\n",
    "## https://www.coderbyte.com/editor/guest:Second%20GreatLow:Python\n",
    "\n",
    "## return second lowest, second highest numbers in a given sequence of numbers\n",
    "## sort them\n",
    "## print second number from beginning and end\n",
    "\n",
    "import numpy as np\n",
    "\n",
    "def second_highlow(my_arr):\n",
    "    \n",
    "    num_lst = np.array(my_arr).tolist()\n",
    "    \n",
    "    sec_low = sorted(num_lst)[1]\n",
    "    \n",
    "    sec_high = sorted(num_lst)[-2]\n",
    "    \n",
    "    print(str(sec_high) + ' ' + str(sec_low))\n"
   ]
  },
  {
   "cell_type": "code",
   "execution_count": 2,
   "metadata": {},
   "outputs": [
    {
     "name": "stdout",
     "output_type": "stream",
     "text": [
      "6 2\n"
     ]
    }
   ],
   "source": [
    "second_highlow((2,4,1,6,8,2))"
   ]
  },
  {
   "cell_type": "code",
   "execution_count": 3,
   "metadata": {},
   "outputs": [
    {
     "name": "stdout",
     "output_type": "stream",
     "text": [
      "100 100\n"
     ]
    }
   ],
   "source": [
    "second_highlow((100, 50, 100))"
   ]
  }
 ],
 "metadata": {
  "kernelspec": {
   "display_name": "Python 3",
   "language": "python",
   "name": "python3"
  },
  "language_info": {
   "codemirror_mode": {
    "name": "ipython",
    "version": 3
   },
   "file_extension": ".py",
   "mimetype": "text/x-python",
   "name": "python",
   "nbconvert_exporter": "python",
   "pygments_lexer": "ipython3",
   "version": "3.6.5"
  }
 },
 "nbformat": 4,
 "nbformat_minor": 2
}
