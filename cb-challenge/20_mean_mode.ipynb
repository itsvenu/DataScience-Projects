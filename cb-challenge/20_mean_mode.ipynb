{
 "cells": [
  {
   "cell_type": "code",
   "execution_count": 3,
   "metadata": {},
   "outputs": [],
   "source": [
    "## Venu Thatikonda\n",
    "## https://www.coderbyte.com/editor/guest:Mean%20Mode:Python\n",
    "\n",
    "## check if mean == mode in a given arr\n",
    "\n",
    "import numpy as np\n",
    "import statistics\n",
    "\n",
    "def mean_mode(my_arr):\n",
    "    \n",
    "    my_lst = np.array(my_arr).tolist()\n",
    "    \n",
    "    my_mean = np.mean(my_lst)\n",
    "    \n",
    "    my_mode = statistics.mode(my_lst)\n",
    "    \n",
    "    if my_mean == my_mode:\n",
    "        \n",
    "        print(1)\n",
    "        \n",
    "    else:\n",
    "        \n",
    "        print(0)\n",
    "\n"
   ]
  },
  {
   "cell_type": "code",
   "execution_count": 4,
   "metadata": {},
   "outputs": [
    {
     "name": "stdout",
     "output_type": "stream",
     "text": [
      "0\n"
     ]
    }
   ],
   "source": [
    "mean_mode((1,3,2,4,5,5,5,4))"
   ]
  }
 ],
 "metadata": {
  "kernelspec": {
   "display_name": "Python 3",
   "language": "python",
   "name": "python3"
  },
  "language_info": {
   "codemirror_mode": {
    "name": "ipython",
    "version": 3
   },
   "file_extension": ".py",
   "mimetype": "text/x-python",
   "name": "python",
   "nbconvert_exporter": "python",
   "pygments_lexer": "ipython3",
   "version": "3.6.5"
  }
 },
 "nbformat": 4,
 "nbformat_minor": 2
}
