{
 "cells": [
  {
   "cell_type": "code",
   "execution_count": null,
   "metadata": {},
   "outputs": [],
   "source": [
    "## Venu Thatikonda\n",
    "## https://www.coderbyte.com/editor/guest:Dash%20Insert:Python\n",
    "   \n",
    "## insert dash between 2 odd numbers in a given number\n",
    "\n",
    "def insert_dash(my_num):\n",
    "    \n",
    "    my_lst = [int(d) for d in str(my_num)]\n",
    "\n",
    "    my_len = len(my_lst)\n",
    "    \n",
    "    my_idx = range(my_len-1)\n",
    "    \n",
    "    all_res = \"\"\n",
    "    \n",
    "    idx = 0\n",
    "    \n",
    "    while idx < (my_len-1):\n",
    "        \n",
    "        idx2 = idx + 1\n",
    "        \n",
    "        num1 = my_lst[idx]\n",
    "        \n",
    "        num2 = my_lst[idx2]\n",
    "        \n",
    "        num1_check = int(num1) % 2\n",
    "        \n",
    "        num2_check = int(num2) % 2\n",
    "        \n",
    "        if num1_chek == num2_check:\n",
    "            \n",
    "            join_num = str(num1) + '-' + str(num2)\n",
    "            \n",
    "        else:\n",
    "        \n",
    "            join_num = str(num1) + '' + str(num2)\n",
    "            \n",
    "            all_res += join_num\n",
    "    \n",
    "    print(all_res)"
   ]
  },
  {
   "cell_type": "code",
   "execution_count": null,
   "metadata": {},
   "outputs": [],
   "source": [
    "insert_dash(1235678)"
   ]
  },
  {
   "cell_type": "code",
   "execution_count": null,
   "metadata": {},
   "outputs": [],
   "source": []
  }
 ],
 "metadata": {
  "kernelspec": {
   "display_name": "Python 3",
   "language": "python",
   "name": "python3"
  },
  "language_info": {
   "codemirror_mode": {
    "name": "ipython",
    "version": 3
   },
   "file_extension": ".py",
   "mimetype": "text/x-python",
   "name": "python",
   "nbconvert_exporter": "python",
   "pygments_lexer": "ipython3",
   "version": "3.6.5"
  }
 },
 "nbformat": 4,
 "nbformat_minor": 2
}
