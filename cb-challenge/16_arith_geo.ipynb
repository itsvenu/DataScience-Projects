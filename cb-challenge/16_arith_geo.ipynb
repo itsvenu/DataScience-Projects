{
 "cells": [
  {
   "cell_type": "code",
   "execution_count": 6,
   "metadata": {},
   "outputs": [],
   "source": [
    "## Venu Thatikonda\n",
    "## Check if a given series of numbers follow arithmetic/geometric pattern\n",
    "\n",
    "## Arithmetic pattern: difference b/w x and x+1 is always constant\n",
    "## Geometric pattern: result of (x+1)/x is always constant\n",
    "\n",
    "import numpy as np\n",
    "\n",
    "def arith_geo(my_arr):\n",
    "    \n",
    "    # np.diff <- arth\n",
    "    # np.true_divide <- geo\n",
    "    \n",
    "    arth_lst = np.diff(my_arr).tolist()\n",
    "    \n",
    "    geo_lst = np.true_divide(my_arr[1:], my_arr[:-1])\n",
    "    \n",
    "    if all(x == arth_lst[0] for x in arth_lst):\n",
    "        \n",
    "        print(\"Arithmentic sequence!\")\n",
    "        \n",
    "    elif all(y == geo_lst[0] for y in geo_lst):\n",
    "        \n",
    "        print(\"Geometric sequence!\")\n",
    "        \n",
    "    else:\n",
    "        \n",
    "        print(\"-1\")\n",
    "    "
   ]
  },
  {
   "cell_type": "code",
   "execution_count": 7,
   "metadata": {},
   "outputs": [
    {
     "name": "stdout",
     "output_type": "stream",
     "text": [
      "Arithmentic sequence!\n"
     ]
    }
   ],
   "source": [
    "arith_geo(my_arr=(1,2,3,4,5))"
   ]
  },
  {
   "cell_type": "code",
   "execution_count": 8,
   "metadata": {},
   "outputs": [
    {
     "name": "stdout",
     "output_type": "stream",
     "text": [
      "-1\n"
     ]
    }
   ],
   "source": [
    "arith_geo(my_arr=(1,3,9,81))"
   ]
  },
  {
   "cell_type": "code",
   "execution_count": 10,
   "metadata": {},
   "outputs": [
    {
     "name": "stdout",
     "output_type": "stream",
     "text": [
      "Geometric sequence!\n"
     ]
    }
   ],
   "source": [
    "arith_geo(my_arr=(2,6,18))"
   ]
  }
 ],
 "metadata": {
  "kernelspec": {
   "display_name": "Python 3",
   "language": "python",
   "name": "python3"
  },
  "language_info": {
   "codemirror_mode": {
    "name": "ipython",
    "version": 3
   },
   "file_extension": ".py",
   "mimetype": "text/x-python",
   "name": "python",
   "nbconvert_exporter": "python",
   "pygments_lexer": "ipython3",
   "version": "3.6.5"
  }
 },
 "nbformat": 4,
 "nbformat_minor": 2
}
