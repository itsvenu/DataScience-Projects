{
 "cells": [
  {
   "cell_type": "code",
   "execution_count": 7,
   "metadata": {},
   "outputs": [],
   "source": [
    "## Venu Thatikonda\n",
    "\n",
    "## AB check\n",
    "## check in agiven string if 'a' and 'b' are spearated exactly by 3 spaces\n",
    "\n",
    "import re\n",
    "\n",
    "def ab_check(my_str):\n",
    "    \n",
    "    # create a list with 'a' indices\n",
    "    a_ind = [match.start() for match in re.finditer(re.escape('a'), my_str)]\n",
    "    \n",
    "    b_ind = [match.start() for match in re.finditer(re.escape('b'), my_str)]\n",
    "    \n",
    "    # do for each indices b-a and create a list\n",
    "    # if this list contain 4, print True\n",
    "    \n",
    "    res = []\n",
    "    \n",
    "    for my_b_ind in b_ind:\n",
    "        \n",
    "        for my_a_ind in a_ind:\n",
    "            \n",
    "            ind_res = my_b_ind - my_a_ind\n",
    "            \n",
    "            res.append(ind_res)\n",
    "    \n",
    "    if 4 in res:\n",
    "        print(True)\n",
    "        \n",
    "    else:\n",
    "        print(False)\n",
    "            \n",
    "    "
   ]
  },
  {
   "cell_type": "code",
   "execution_count": 8,
   "metadata": {},
   "outputs": [
    {
     "name": "stdout",
     "output_type": "stream",
     "text": [
      "True\n"
     ]
    }
   ],
   "source": [
    "ab_check('abcdb')"
   ]
  },
  {
   "cell_type": "code",
   "execution_count": 9,
   "metadata": {},
   "outputs": [
    {
     "name": "stdout",
     "output_type": "stream",
     "text": [
      "True\n"
     ]
    }
   ],
   "source": [
    "ab_check('adfdb')"
   ]
  },
  {
   "cell_type": "code",
   "execution_count": 11,
   "metadata": {},
   "outputs": [
    {
     "name": "stdout",
     "output_type": "stream",
     "text": [
      "True\n"
     ]
    }
   ],
   "source": [
    "ab_check('adf b')"
   ]
  }
 ],
 "metadata": {
  "kernelspec": {
   "display_name": "Python 3",
   "language": "python",
   "name": "python3"
  },
  "language_info": {
   "codemirror_mode": {
    "name": "ipython",
    "version": 3
   },
   "file_extension": ".py",
   "mimetype": "text/x-python",
   "name": "python",
   "nbconvert_exporter": "python",
   "pygments_lexer": "ipython3",
   "version": "3.6.5"
  }
 },
 "nbformat": 4,
 "nbformat_minor": 2
}
