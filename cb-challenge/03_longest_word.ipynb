{
 "cells": [
  {
   "cell_type": "code",
   "execution_count": 7,
   "metadata": {},
   "outputs": [],
   "source": [
    "## Venu Thatikonda\n",
    "## Find longest word in a given string\n",
    "## print all words which are of same length\n",
    "\n",
    "def longestWord(sen):\n",
    "    sen_br = sen.split(' ')\n",
    "    res = max(sen_br, key=len)\n",
    "    print(res)\n",
    "\n",
    "def all_longest_words(sen):\n",
    "    sen_br = sen.split(' ')\n",
    "    m = max(map(len,sen_br))\n",
    "    res = [x for x in sen_br if len(x) == m]\n",
    "    print(res)\n",
    "    "
   ]
  },
  {
   "cell_type": "code",
   "execution_count": 6,
   "metadata": {},
   "outputs": [
    {
     "name": "stdout",
     "output_type": "stream",
     "text": [
      "name\n"
     ]
    }
   ],
   "source": [
    "longestWord('my name is venu')"
   ]
  },
  {
   "cell_type": "code",
   "execution_count": 8,
   "metadata": {},
   "outputs": [
    {
     "name": "stdout",
     "output_type": "stream",
     "text": [
      "['name', 'venu']\n"
     ]
    }
   ],
   "source": [
    "all_longest_words('my name is venu')"
   ]
  }
 ],
 "metadata": {
  "kernelspec": {
   "display_name": "Python 3",
   "language": "python",
   "name": "python3"
  },
  "language_info": {
   "codemirror_mode": {
    "name": "ipython",
    "version": 3
   },
   "file_extension": ".py",
   "mimetype": "text/x-python",
   "name": "python",
   "nbconvert_exporter": "python",
   "pygments_lexer": "ipython3",
   "version": "3.6.5"
  }
 },
 "nbformat": 4,
 "nbformat_minor": 2
}
