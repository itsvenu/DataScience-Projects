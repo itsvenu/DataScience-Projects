{
 "cells": [
  {
   "cell_type": "code",
   "execution_count": 6,
   "metadata": {},
   "outputs": [],
   "source": [
    "## Venu Thatikonda\n",
    "\n",
    "## https://www.coderbyte.com/editor/guest:Letter%20Count%20I:Python\n",
    "## Return first word with highest number of repeated letters in it\n",
    "\n",
    "## given string -> list of words\n",
    "## foreach element/word of list, make a dict with letter frequencies\n",
    "## get the highest number and assign to that word and create a new dict\n",
    "## finally print the word/key with highest value\n",
    "\n",
    "import collections\n",
    "\n",
    "def letter_count(my_sen):\n",
    "    \n",
    "    sen_splt = my_sen.split()\n",
    "    \n",
    "    final_res = {}\n",
    "    \n",
    "    for word in sen_splt:\n",
    "        \n",
    "        d = collections.defaultdict(int)\n",
    "        \n",
    "        for c in word:\n",
    "            \n",
    "            d[c] += 1\n",
    "            \n",
    "            max_key = max(d, key=d.get)\n",
    "            \n",
    "            max_val = d[max_key]\n",
    "            \n",
    "            final_res[word] = max_val\n",
    "            \n",
    "    # print key with higest val\n",
    "    \n",
    "    final_max_Key = max(final_res, key=final_res.get)\n",
    "    \n",
    "    if final_res[final_max_Key] == 1:\n",
    "        \n",
    "        print(-1)\n",
    "        \n",
    "    else:\n",
    "        \n",
    "        print(final_max_Key)\n",
    "    \n"
   ]
  },
  {
   "cell_type": "code",
   "execution_count": 7,
   "metadata": {},
   "outputs": [
    {
     "name": "stdout",
     "output_type": "stream",
     "text": [
      "venuuu\n"
     ]
    }
   ],
   "source": [
    "letter_count('my name is venuuu')"
   ]
  },
  {
   "cell_type": "code",
   "execution_count": 8,
   "metadata": {},
   "outputs": [
    {
     "name": "stdout",
     "output_type": "stream",
     "text": [
      "-1\n"
     ]
    }
   ],
   "source": [
    "letter_count('xyz')"
   ]
  },
  {
   "cell_type": "code",
   "execution_count": 5,
   "metadata": {},
   "outputs": [
    {
     "name": "stdout",
     "output_type": "stream",
     "text": [
      "venuuu\n"
     ]
    }
   ],
   "source": [
    "letter_count('venuuu is')"
   ]
  }
 ],
 "metadata": {
  "kernelspec": {
   "display_name": "Python 3",
   "language": "python",
   "name": "python3"
  },
  "language_info": {
   "codemirror_mode": {
    "name": "ipython",
    "version": 3
   },
   "file_extension": ".py",
   "mimetype": "text/x-python",
   "name": "python",
   "nbconvert_exporter": "python",
   "pygments_lexer": "ipython3",
   "version": "3.6.5"
  }
 },
 "nbformat": 4,
 "nbformat_minor": 2
}
