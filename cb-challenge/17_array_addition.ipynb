{
 "cells": [
  {
   "cell_type": "code",
   "execution_count": 3,
   "metadata": {},
   "outputs": [],
   "source": [
    "## Venu Thatikonda\n",
    "## Sum of any combinations of numbers excluding the largest == largest number??\n",
    "\n",
    "## array -> list\n",
    "## get the largest number out of the list\n",
    "## check if any combination of numbers sums up to largest value\n",
    "\n",
    "import numpy as np\n",
    "import itertools\n",
    "\n",
    "def array_addition(my_arr):\n",
    "    \n",
    "    num_lst = np.array(my_arr).tolist()\n",
    "    \n",
    "    lrg_num = max(num_lst)\n",
    "    \n",
    "    num_lst.remove(lrg_num)\n",
    "    \n",
    "    result = [seq for i in range(len(num_lst), 0, -1) for seq in itertools.combinations(num_lst, i) if sum(seq) == lrg_num]\n",
    "    \n",
    "    if len(result) == 0:\n",
    "        \n",
    "        print(False)\n",
    "        \n",
    "    else:\n",
    "        \n",
    "        print(True)\n",
    "    "
   ]
  },
  {
   "cell_type": "code",
   "execution_count": 6,
   "metadata": {},
   "outputs": [
    {
     "name": "stdout",
     "output_type": "stream",
     "text": [
      "True\n"
     ]
    }
   ],
   "source": [
    "array_addition(my_arr=(1,2,3,4,5,10))"
   ]
  },
  {
   "cell_type": "code",
   "execution_count": 7,
   "metadata": {},
   "outputs": [
    {
     "name": "stdout",
     "output_type": "stream",
     "text": [
      "False\n"
     ]
    }
   ],
   "source": [
    "array_addition(my_arr=(1,2,3,4,5,100))"
   ]
  }
 ],
 "metadata": {
  "kernelspec": {
   "display_name": "Python 3",
   "language": "python",
   "name": "python3"
  },
  "language_info": {
   "codemirror_mode": {
    "name": "ipython",
    "version": 3
   },
   "file_extension": ".py",
   "mimetype": "text/x-python",
   "name": "python",
   "nbconvert_exporter": "python",
   "pygments_lexer": "ipython3",
   "version": "3.6.5"
  }
 },
 "nbformat": 4,
 "nbformat_minor": 2
}
