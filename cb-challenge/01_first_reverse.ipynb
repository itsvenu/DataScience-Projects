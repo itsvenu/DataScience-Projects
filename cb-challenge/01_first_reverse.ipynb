{
 "cells": [
  {
   "cell_type": "code",
   "execution_count": 1,
   "metadata": {},
   "outputs": [],
   "source": [
    "# Venu Thatikonda\n",
    "\n",
    "# script for codervyte challenge - first reverse\n",
    "# https://www.coderbyte.com/editor/guest:First%20Reverse:Python\n",
    "\n",
    "# write a function to reverse the given sentence and print\n",
    "\n",
    "# From: https://stackoverflow.com/questions/931092/reverse-a-string-in-python\n",
    "\n",
    "def FirstReverse(str):\n",
    "    \n",
    "    res = str[::-1]\n",
    "    print(res)\n"
   ]
  },
  {
   "cell_type": "code",
   "execution_count": 2,
   "metadata": {},
   "outputs": [
    {
     "name": "stdout",
     "output_type": "stream",
     "text": [
      "unev\n"
     ]
    }
   ],
   "source": [
    "FirstReverse(\"venu\")"
   ]
  },
  {
   "cell_type": "code",
   "execution_count": 3,
   "metadata": {},
   "outputs": [
    {
     "name": "stdout",
     "output_type": "stream",
     "text": [
      "nohtyp evol I\n"
     ]
    }
   ],
   "source": [
    "FirstReverse(\"I love python\")"
   ]
  }
 ],
 "metadata": {
  "kernelspec": {
   "display_name": "Python 3",
   "language": "python",
   "name": "python3"
  },
  "language_info": {
   "codemirror_mode": {
    "name": "ipython",
    "version": 3
   },
   "file_extension": ".py",
   "mimetype": "text/x-python",
   "name": "python",
   "nbconvert_exporter": "python",
   "pygments_lexer": "ipython3",
   "version": "3.6.5"
  }
 },
 "nbformat": 4,
 "nbformat_minor": 2
}
