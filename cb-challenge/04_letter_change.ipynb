{
 "cells": [
  {
   "cell_type": "markdown",
   "metadata": {},
   "source": [
    "## String manipulation"
   ]
  },
  {
   "cell_type": "code",
   "execution_count": null,
   "metadata": {},
   "outputs": [],
   "source": [
    "## Venu Thatikonda\n",
    "\n",
    "## strin manipulation:\n",
    "## Algorithm\n",
    "\n",
    "'''in a given string, replace every letter with next letter in alphabets & capitalize vowels in the final resul'''\n",
    "\n",
    "import string\n",
    "\n",
    "def latter_change(sen):\n",
    "    all_letters =  list(string.ascii_lowercase)\n",
    "    \n",
    "    res=\"\"\n",
    "    \n",
    "    for i in sen:\n",
    "    \n",
    "        ori_index = all_letters.index(i)\n",
    "\n",
    "        if(ori_index == 25):\n",
    "            req_index = 0\n",
    "        else:\n",
    "            req_index = ori_index + 1\n",
    "\n",
    "        n_letter = all_letters[req_index]\n",
    "\n",
    "        res += n_letter\n",
    "    \n",
    "## vowel task\n",
    "    res = res.replace(\"a\", \"A\")\n",
    "    res = res.replace(\"e\", \"E\")\n",
    "    res = res.replace(\"i\", \"I\")\n",
    "    res = res.replace('o', 'O')\n",
    "    res = res.replace(\"u\", \"U\")\n",
    "\n",
    "    print(res)\n"
   ]
  },
  {
   "cell_type": "code",
   "execution_count": 7,
   "metadata": {},
   "outputs": [
    {
     "name": "stdout",
     "output_type": "stream",
     "text": [
      "wfOvA\n"
     ]
    }
   ],
   "source": [
    "latter_change('venuz')"
   ]
  },
  {
   "cell_type": "code",
   "execution_count": 9,
   "metadata": {},
   "outputs": [
    {
     "name": "stdout",
     "output_type": "stream",
     "text": [
      "jmpwfqzUIpO\n"
     ]
    }
   ],
   "source": [
    "latter_change('ilovepython')"
   ]
  }
 ],
 "metadata": {
  "kernelspec": {
   "display_name": "Python 3",
   "language": "python",
   "name": "python3"
  },
  "language_info": {
   "codemirror_mode": {
    "name": "ipython",
    "version": 3
   },
   "file_extension": ".py",
   "mimetype": "text/x-python",
   "name": "python",
   "nbconvert_exporter": "python",
   "pygments_lexer": "ipython3",
   "version": "3.6.5"
  }
 },
 "nbformat": 4,
 "nbformat_minor": 2
}
